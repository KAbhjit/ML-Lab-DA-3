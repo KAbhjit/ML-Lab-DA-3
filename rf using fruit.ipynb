{
 "cells": [
  {
   "cell_type": "code",
   "execution_count": 1,
   "id": "8d9790e3",
   "metadata": {},
   "outputs": [],
   "source": [
    "import pandas as pd\n",
    "\n",
    "data = pd.DataFrame({\n",
    "    'weight': [150, 130, 180, 160, 170, 165, 120, 110, 125, 155],\n",
    "    'width': [7.2, 6.8, 7.8, 6.5, 6.7, 6.9, 4.5, 4.3, 4.7, 7.1],\n",
    "    'height': [8.3, 8.0, 8.5, 7.5, 7.8, 8.1, 12.0, 11.5, 12.2, 8.2],\n",
    "    'color_score': [0.85, 0.90, 0.70, 0.68, 0.75, 0.73, 0.55, 0.52, 0.50, 0.88],\n",
    "    'fruit': [0, 0, 0, 1, 1, 1, 2, 2, 2, 0]  # 0=Apple, 1=Orange, 2=Banana\n",
    "})"
   ]
  },
  {
   "cell_type": "code",
   "execution_count": 2,
   "id": "651b38aa",
   "metadata": {},
   "outputs": [
    {
     "name": "stdout",
     "output_type": "stream",
     "text": [
      "Features: ['weight', 'width', 'height', 'color_score']\n",
      "Classes: 0=Apple, 1=Orange, 2=Banana\n",
      "   weight  width  height  color_score  fruit\n",
      "0     150    7.2     8.3         0.85      0\n",
      "1     130    6.8     8.0         0.90      0\n",
      "2     180    7.8     8.5         0.70      0\n",
      "3     160    6.5     7.5         0.68      1\n",
      "4     170    6.7     7.8         0.75      1\n"
     ]
    }
   ],
   "source": [
    "# Print feature and class names\n",
    "print(\"Features:\", list(data.columns[:-1]))\n",
    "print(\"Classes: 0=Apple, 1=Orange, 2=Banana\")\n",
    "print(data.head())"
   ]
  },
  {
   "cell_type": "code",
   "execution_count": 3,
   "id": "bb80767a",
   "metadata": {},
   "outputs": [],
   "source": [
    "from sklearn.model_selection import train_test_split\n",
    "\n",
    "X = data[['weight', 'width', 'height', 'color_score']]\n",
    "y = data['fruit']\n",
    "\n",
    "X_train, X_test, y_train, y_test = train_test_split(X, y, test_size=0.3)"
   ]
  },
  {
   "cell_type": "code",
   "execution_count": 4,
   "id": "e1de1e1b",
   "metadata": {},
   "outputs": [],
   "source": [
    "from sklearn.ensemble import RandomForestClassifier\n",
    "\n",
    "clf = RandomForestClassifier(n_estimators=100)\n",
    "clf.fit(X_train, y_train)\n",
    "y_pred = clf.predict(X_test)"
   ]
  },
  {
   "cell_type": "code",
   "execution_count": 5,
   "id": "23139264",
   "metadata": {},
   "outputs": [
    {
     "name": "stdout",
     "output_type": "stream",
     "text": [
      "Accuracy: 0.6666666666666666\n"
     ]
    }
   ],
   "source": [
    "from sklearn import metrics\n",
    "\n",
    "print(\"Accuracy:\", metrics.accuracy_score(y_test, y_pred))"
   ]
  },
  {
   "cell_type": "code",
   "execution_count": 6,
   "id": "7479398c",
   "metadata": {},
   "outputs": [
    {
     "name": "stdout",
     "output_type": "stream",
     "text": [
      "Prediction for fruit with [140g, 6.9cm, 8.0cm, 0.87 color score]: [0]\n"
     ]
    },
    {
     "name": "stderr",
     "output_type": "stream",
     "text": [
      "C:\\Users\\Abhijit Kavuru\\anaconda3\\lib\\site-packages\\sklearn\\base.py:493: UserWarning: X does not have valid feature names, but RandomForestClassifier was fitted with feature names\n",
      "  warnings.warn(\n"
     ]
    }
   ],
   "source": [
    "print(\"Prediction for fruit with [140g, 6.9cm, 8.0cm, 0.87 color score]:\", clf.predict([[140, 6.9, 8.0, 0.87]]))\n",
    "# Output will be 0, 1, or 2 (Apple, Orange, Banana)"
   ]
  },
  {
   "cell_type": "code",
   "execution_count": 7,
   "id": "997f9472",
   "metadata": {},
   "outputs": [
    {
     "name": "stdout",
     "output_type": "stream",
     "text": [
      "Feature Importance:\n",
      " width          0.327925\n",
      "height         0.253140\n",
      "color_score    0.227249\n",
      "weight         0.191686\n",
      "dtype: float64\n"
     ]
    }
   ],
   "source": [
    "feature_imp = pd.Series(clf.feature_importances_, index=['weight', 'width', 'height', 'color_score']).sort_values(ascending=False)\n",
    "print(\"Feature Importance:\\n\", feature_imp)"
   ]
  },
  {
   "cell_type": "code",
   "execution_count": 9,
   "id": "d5741ee5",
   "metadata": {
    "scrolled": true
   },
   "outputs": [
    {
     "name": "stderr",
     "output_type": "stream",
     "text": [
      "No artists with labels found to put in legend.  Note that artists whose label start with an underscore are ignored when legend() is called with no argument.\n"
     ]
    },
    {
     "data": {
      "image/png": "[encoded data removed]",
      "text/plain": [
       "<Figure size 640x480 with 1 Axes>"
      ]
     },
     "metadata": {},
     "output_type": "display_data"
    }
   ],
   "source": [
    "import matplotlib.pyplot as plt\n",
    "import seaborn as sns\n",
    "%matplotlib inline\n",
    "\n",
    "sns.barplot(x=feature_imp, y=feature_imp.index)\n",
    "plt.xlabel('Feature Importance Score')\n",
    "plt.ylabel('Features')\n",
    "plt.title(\"Visualizing Important Features\")\n",
    "plt.legend()\n",
    "plt.show()\n"
   ]
  },
  {
   "cell_type": "code",
   "execution_count": null,
   "id": "64a320a5",
   "metadata": {},
   "outputs": [],
   "source": []
  }
 ],
 "metadata": {
  "kernelspec": {
   "display_name": "Python 3 (ipykernel)",
   "language": "python",
   "name": "python3"
  },
  "language_info": {
   "codemirror_mode": {
    "name": "ipython",
    "version": 3
   },
   "file_extension": ".py",
   "mimetype": "text/x-python",
   "name": "python",
   "nbconvert_exporter": "python",
   "pygments_lexer": "ipython3",
   "version": "3.9.13"
  }
 },
 "nbformat": 4,
 "nbformat_minor": 5
}
